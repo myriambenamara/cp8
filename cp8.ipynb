{
 "cells": [
  {
   "cell_type": "code",
   "execution_count": 1,
   "id": "dac225a5",
   "metadata": {},
   "outputs": [
    {
     "data": {
      "text/plain": [
       "'What is Python language?                                                \\nPython is a widely used high-level, general-purpose, interpreted, dynamic programming language.Its design philosophy emphasizes code readability, and its syntax allows programmers to express concepts in fewer lines of code than possible in \\nlanguages such as C++ or Java. \\nPython supports multiple programming paradigms, including object-oriented, imperative and functional programming or procedural styles. It features a dynamic type system and automatic memory management and has a large and comprehensive standard library.The best way we learn anything is by practice and exercise questions. We  have started this section for those (beginner to intermediate) who are familiar with Python.'"
      ]
     },
     "execution_count": 1,
     "metadata": {},
     "output_type": "execute_result"
    }
   ],
   "source": [
    "f=open (\"python.txt\", 'r', encoding= 'utf-8' )\n",
    "f.read ()\n",
    "#quest1"
   ]
  },
  {
   "cell_type": "code",
   "execution_count": 3,
   "id": "c4604b53",
   "metadata": {},
   "outputs": [
    {
     "name": "stdout",
     "output_type": "stream",
     "text": [
      "What is Python language?                                                \n",
      "\n"
     ]
    }
   ],
   "source": [
    "f = open (\"python.txt\", 'r')\n",
    "line = f.readline ()\n",
    "print (line)\n",
    "f.close ()\n",
    "#question2"
   ]
  },
  {
   "cell_type": "code",
   "execution_count": 4,
   "id": "ec851b6f",
   "metadata": {},
   "outputs": [
    {
     "name": "stdout",
     "output_type": "stream",
     "text": [
      "['Python supports multiple programming paradigms, including object-oriented, imperative and functional programming or procedural styles. It features a dynamic type system and automatic memory management and has a large and comprehensive standard library.The best way we learn anything is by practice and exercise questions. We  have started this section for those (beginner to intermediate) who are familiar with Python.']\n"
     ]
    }
   ],
   "source": [
    "f = open (\"python.txt\", 'r')\n",
    "lines = f.readlines ()\n",
    "last_lines = lines [-1:]\n",
    "print ( last_lines)\n",
    "#question3"
   ]
  },
  {
   "cell_type": "code",
   "execution_count": 6,
   "id": "23df8b17",
   "metadata": {},
   "outputs": [
    {
     "name": "stdout",
     "output_type": "stream",
     "text": [
      "entrez votre file:myriam \n",
      "['m']\n",
      "1\n",
      "['y']\n",
      "2\n",
      "['r']\n",
      "3\n",
      "['i']\n",
      "4\n",
      "['a']\n",
      "5\n",
      "['m']\n",
      "6\n",
      "[]\n",
      "6\n"
     ]
    }
   ],
   "source": [
    "f= input (\"entrez votre file:\")\n",
    "num = 0\n",
    "for line in f:\n",
    "    words = line.split ()\n",
    "    print (words)\n",
    "    num +=len (words)\n",
    "    print (num)\n",
    "    #question4"
   ]
  },
  {
   "cell_type": "code",
   "execution_count": 7,
   "id": "b26a31d2",
   "metadata": {},
   "outputs": [
    {
     "name": "stdout",
     "output_type": "stream",
     "text": [
      "['Python supports multiple programming paradigms, including object-oriented, imperative and functional programming or procedural styles. It features a dynamic type system and automatic memory management and has a large and comprehensive standard library.The best way we learn anything is by practice and exercise questions. We  have started this section for those (beginner to intermediate) who are familiar with Python.']\n"
     ]
    }
   ],
   "source": [
    "f= open (\"python.txt\")\n",
    "f=open (\"python.txt\", 'r', encoding= 'utf-8' )\n",
    "last_lines= lines [-1:]\n",
    "print (last_lines) #question5"
   ]
  },
  {
   "cell_type": "code",
   "execution_count": null,
   "id": "82bddee9",
   "metadata": {},
   "outputs": [],
   "source": []
  }
 ],
 "metadata": {
  "kernelspec": {
   "display_name": "Python 3",
   "language": "python",
   "name": "python3"
  },
  "language_info": {
   "codemirror_mode": {
    "name": "ipython",
    "version": 3
   },
   "file_extension": ".py",
   "mimetype": "text/x-python",
   "name": "python",
   "nbconvert_exporter": "python",
   "pygments_lexer": "ipython3",
   "version": "3.8.8"
  }
 },
 "nbformat": 4,
 "nbformat_minor": 5
}
